{
 "cells": [
  {
   "cell_type": "code",
   "execution_count": 5,
   "metadata": {},
   "outputs": [
    {
     "name": "stdout",
     "output_type": "stream",
     "text": [
      "Total n of lines and columns\n",
      "\n",
      " (6362620, 11) \n",
      "\n"
     ]
    }
   ],
   "source": [
    "import pandas as pd\n",
    "import matplotlib.pyplot as plt\n",
    "import seaborn as sns\n",
    "import math\n",
    "import sklearn\n",
    "import numpy as np \n",
    "\n",
    "import warnings\n",
    "warnings.filterwarnings('ignore')\n",
    "\n",
    "df = pd.read_csv(\"/Users/amira/Desktop/FraudDetection/fraud_data.csv\")\n",
    "\n",
    "print('Total n of lines and columns\\n\\n',df.shape,'\\n')"
   ]
  },
  {
   "cell_type": "code",
   "execution_count": 6,
   "metadata": {},
   "outputs": [
    {
     "data": {
      "text/html": [
       "<div>\n",
       "<style scoped>\n",
       "    .dataframe tbody tr th:only-of-type {\n",
       "        vertical-align: middle;\n",
       "    }\n",
       "\n",
       "    .dataframe tbody tr th {\n",
       "        vertical-align: top;\n",
       "    }\n",
       "\n",
       "    .dataframe thead th {\n",
       "        text-align: right;\n",
       "    }\n",
       "</style>\n",
       "<table border=\"1\" class=\"dataframe\">\n",
       "  <thead>\n",
       "    <tr style=\"text-align: right;\">\n",
       "      <th></th>\n",
       "      <th>step</th>\n",
       "      <th>amount</th>\n",
       "      <th>oldbalanceOrg</th>\n",
       "      <th>newbalanceOrig</th>\n",
       "      <th>oldbalanceDest</th>\n",
       "      <th>newbalanceDest</th>\n",
       "      <th>isFraud</th>\n",
       "      <th>isFlaggedFraud</th>\n",
       "    </tr>\n",
       "  </thead>\n",
       "  <tbody>\n",
       "    <tr>\n",
       "      <th>count</th>\n",
       "      <td>6362620.0</td>\n",
       "      <td>6362620.0</td>\n",
       "      <td>6362620.0</td>\n",
       "      <td>6362620.0</td>\n",
       "      <td>6362620.0</td>\n",
       "      <td>6362620.0</td>\n",
       "      <td>6362620.0</td>\n",
       "      <td>6362620.0</td>\n",
       "    </tr>\n",
       "    <tr>\n",
       "      <th>mean</th>\n",
       "      <td>243.0</td>\n",
       "      <td>179862.0</td>\n",
       "      <td>833883.0</td>\n",
       "      <td>855114.0</td>\n",
       "      <td>1100702.0</td>\n",
       "      <td>1224996.0</td>\n",
       "      <td>0.0</td>\n",
       "      <td>0.0</td>\n",
       "    </tr>\n",
       "    <tr>\n",
       "      <th>std</th>\n",
       "      <td>142.0</td>\n",
       "      <td>603858.0</td>\n",
       "      <td>2888243.0</td>\n",
       "      <td>2924049.0</td>\n",
       "      <td>3399180.0</td>\n",
       "      <td>3674129.0</td>\n",
       "      <td>0.0</td>\n",
       "      <td>0.0</td>\n",
       "    </tr>\n",
       "    <tr>\n",
       "      <th>min</th>\n",
       "      <td>1.0</td>\n",
       "      <td>0.0</td>\n",
       "      <td>0.0</td>\n",
       "      <td>0.0</td>\n",
       "      <td>0.0</td>\n",
       "      <td>0.0</td>\n",
       "      <td>0.0</td>\n",
       "      <td>0.0</td>\n",
       "    </tr>\n",
       "    <tr>\n",
       "      <th>25%</th>\n",
       "      <td>156.0</td>\n",
       "      <td>13390.0</td>\n",
       "      <td>0.0</td>\n",
       "      <td>0.0</td>\n",
       "      <td>0.0</td>\n",
       "      <td>0.0</td>\n",
       "      <td>0.0</td>\n",
       "      <td>0.0</td>\n",
       "    </tr>\n",
       "    <tr>\n",
       "      <th>50%</th>\n",
       "      <td>239.0</td>\n",
       "      <td>74872.0</td>\n",
       "      <td>14208.0</td>\n",
       "      <td>0.0</td>\n",
       "      <td>132706.0</td>\n",
       "      <td>214661.0</td>\n",
       "      <td>0.0</td>\n",
       "      <td>0.0</td>\n",
       "    </tr>\n",
       "    <tr>\n",
       "      <th>75%</th>\n",
       "      <td>335.0</td>\n",
       "      <td>208721.0</td>\n",
       "      <td>107315.0</td>\n",
       "      <td>144258.0</td>\n",
       "      <td>943037.0</td>\n",
       "      <td>1111909.0</td>\n",
       "      <td>0.0</td>\n",
       "      <td>0.0</td>\n",
       "    </tr>\n",
       "    <tr>\n",
       "      <th>max</th>\n",
       "      <td>743.0</td>\n",
       "      <td>92445517.0</td>\n",
       "      <td>59585040.0</td>\n",
       "      <td>49585040.0</td>\n",
       "      <td>356015889.0</td>\n",
       "      <td>356179279.0</td>\n",
       "      <td>1.0</td>\n",
       "      <td>1.0</td>\n",
       "    </tr>\n",
       "  </tbody>\n",
       "</table>\n",
       "</div>"
      ],
      "text/plain": [
       "            step      amount  oldbalanceOrg  newbalanceOrig  oldbalanceDest  \\\n",
       "count  6362620.0   6362620.0      6362620.0       6362620.0       6362620.0   \n",
       "mean       243.0    179862.0       833883.0        855114.0       1100702.0   \n",
       "std        142.0    603858.0      2888243.0       2924049.0       3399180.0   \n",
       "min          1.0         0.0            0.0             0.0             0.0   \n",
       "25%        156.0     13390.0            0.0             0.0             0.0   \n",
       "50%        239.0     74872.0        14208.0             0.0        132706.0   \n",
       "75%        335.0    208721.0       107315.0        144258.0        943037.0   \n",
       "max        743.0  92445517.0     59585040.0      49585040.0     356015889.0   \n",
       "\n",
       "       newbalanceDest    isFraud  isFlaggedFraud  \n",
       "count       6362620.0  6362620.0       6362620.0  \n",
       "mean        1224996.0        0.0             0.0  \n",
       "std         3674129.0        0.0             0.0  \n",
       "min               0.0        0.0             0.0  \n",
       "25%               0.0        0.0             0.0  \n",
       "50%          214661.0        0.0             0.0  \n",
       "75%         1111909.0        0.0             0.0  \n",
       "max       356179279.0        1.0             1.0  "
      ]
     },
     "execution_count": 6,
     "metadata": {},
     "output_type": "execute_result"
    }
   ],
   "source": [
    "df.describe().round()"
   ]
  },
  {
   "cell_type": "code",
   "execution_count": 7,
   "metadata": {},
   "outputs": [
    {
     "name": "stdout",
     "output_type": "stream",
     "text": [
      "<class 'pandas.core.frame.DataFrame'>\n",
      "RangeIndex: 6362620 entries, 0 to 6362619\n",
      "Data columns (total 11 columns):\n",
      " #   Column          Dtype  \n",
      "---  ------          -----  \n",
      " 0   step            int64  \n",
      " 1   type            object \n",
      " 2   amount          float64\n",
      " 3   nameOrig        object \n",
      " 4   oldbalanceOrg   float64\n",
      " 5   newbalanceOrig  float64\n",
      " 6   nameDest        object \n",
      " 7   oldbalanceDest  float64\n",
      " 8   newbalanceDest  float64\n",
      " 9   isFraud         int64  \n",
      " 10  isFlaggedFraud  int64  \n",
      "dtypes: float64(5), int64(3), object(3)\n",
      "memory usage: 534.0+ MB\n"
     ]
    }
   ],
   "source": [
    "df.info()\n"
   ]
  },
  {
   "cell_type": "code",
   "execution_count": 10,
   "metadata": {},
   "outputs": [
    {
     "name": "stdout",
     "output_type": "stream",
     "text": [
      "Not Fraud %  99.87\n",
      "\n",
      "count     6354407.00\n",
      "mean       178197.04\n",
      "std        596236.98\n",
      "min             0.01\n",
      "25%         13368.40\n",
      "50%         74684.72\n",
      "75%        208364.76\n",
      "max      92445516.64\n",
      "Name: amount, dtype: float64\n",
      "\n",
      "\n",
      "Fraud %     0.13\n",
      "\n",
      "count        8213.00\n",
      "mean      1467967.30\n",
      "std       2404252.95\n",
      "min             0.00\n",
      "25%        127091.33\n",
      "50%        441423.44\n",
      "75%       1517771.48\n",
      "max      10000000.00\n",
      "Name: amount, dtype: float64\n"
     ]
    }
   ],
   "source": [
    "print ('Not Fraud % ',round(df['isFraud'].value_counts()[0]/len(df)*100,2))\n",
    "print ()\n",
    "print (round(df.amount[df.isFraud == 0].describe(),2))\n",
    "print ()\n",
    "print ()\n",
    "print ('Fraud %    ',round(df['isFraud'].value_counts()[1]/len(df)*100,2))\n",
    "print ()\n",
    "print (round(df.amount[df.isFraud == 1].describe(),2))"
   ]
  },
  {
   "cell_type": "code",
   "execution_count": 12,
   "metadata": {},
   "outputs": [
    {
     "name": "stdout",
     "output_type": "stream",
     "text": [
      "Non Fraud %  99.87\n",
      "Fraud %     0.13\n"
     ]
    },
    {
     "data": {
      "image/png": "[encoded data removed]",
      "text/plain": [
       "<Figure size 1000x800 with 1 Axes>"
      ]
     },
     "metadata": {},
     "output_type": "display_data"
    }
   ],
   "source": [
    "plt.figure(figsize=(10,8))\n",
    "sns.set_style('darkgrid')\n",
    "sns.barplot(x=df['isFraud'].value_counts().index,y=df['isFraud'].value_counts(), palette=[\"C1\", \"C8\"])\n",
    "plt.title('Non Fraud X Fraud')\n",
    "plt.ylabel('Count')\n",
    "plt.xlabel('0: Non Fraud,  1: Fraud')\n",
    "print ('Non Fraud % ',round(df['isFraud'].value_counts()[0]/len(df)*100,2))\n",
    "print ('Fraud %    ',round(df['isFraud'].value_counts()[1]/len(df)*100,2));"
   ]
  }
 ],
 "metadata": {
  "kernelspec": {
   "display_name": "venv",
   "language": "python",
   "name": "python3"
  },
  "language_info": {
   "codemirror_mode": {
    "name": "ipython",
    "version": 3
   },
   "file_extension": ".py",
   "mimetype": "text/x-python",
   "name": "python",
   "nbconvert_exporter": "python",
   "pygments_lexer": "ipython3",
   "version": "3.9.12"
  }
 },
 "nbformat": 4,
 "nbformat_minor": 2
}
